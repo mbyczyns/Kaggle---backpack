{
 "cells": [
  {
   "cell_type": "markdown",
   "metadata": {},
   "source": [
    "# Imports"
   ]
  },
  {
   "cell_type": "code",
   "execution_count": 2,
   "metadata": {},
   "outputs": [],
   "source": [
    "import pandas as pd\n",
    "import numpy as np\n",
    "\n",
    "df = pd.read_csv('train.csv')\n",
    "df.columns = df.columns.str.replace(' ', '_')"
   ]
  },
  {
   "cell_type": "code",
   "execution_count": 3,
   "metadata": {},
   "outputs": [
    {
     "name": "stdout",
     "output_type": "stream",
     "text": [
      "<class 'pandas.core.frame.DataFrame'>\n",
      "RangeIndex: 300000 entries, 0 to 299999\n",
      "Data columns (total 11 columns):\n",
      " #   Column                Non-Null Count   Dtype  \n",
      "---  ------                --------------   -----  \n",
      " 0   id                    300000 non-null  int64  \n",
      " 1   Brand                 290295 non-null  object \n",
      " 2   Material              291653 non-null  object \n",
      " 3   Size                  293405 non-null  object \n",
      " 4   Compartments          300000 non-null  float64\n",
      " 5   Laptop_Compartment    292556 non-null  object \n",
      " 6   Waterproof            292950 non-null  object \n",
      " 7   Style                 292030 non-null  object \n",
      " 8   Color                 290050 non-null  object \n",
      " 9   Weight_Capacity_(kg)  299862 non-null  float64\n",
      " 10  Price                 300000 non-null  float64\n",
      "dtypes: float64(3), int64(1), object(7)\n",
      "memory usage: 25.2+ MB\n"
     ]
    }
   ],
   "source": [
    "df.info()"
   ]
  },
  {
   "cell_type": "markdown",
   "metadata": {},
   "source": [
    "# Preprocessing function"
   ]
  },
  {
   "cell_type": "code",
   "execution_count": 23,
   "metadata": {},
   "outputs": [],
   "source": [
    "from sklearn.impute import SimpleImputer\n",
    "from sklearn.preprocessing import StandardScaler, OneHotEncoder, OrdinalEncoder"
   ]
  },
  {
   "cell_type": "code",
   "execution_count": 62,
   "metadata": {},
   "outputs": [],
   "source": [
    "cat_cols=['Brand', 'Material','Size', 'Laptop_Compartment','Waterproof','Style','Color']\n",
    "\n",
    "def preprocess(df):\n",
    "    data_processed = df.copy()\n",
    "\n",
    "    weight_imputer=SimpleImputer(strategy='median')\n",
    "    weight_imputer.fit(df[['Weight_Capacity_(kg)']])\n",
    "\n",
    "    frequent_imputer = SimpleImputer(strategy='most_frequent')\n",
    "    frequent_imputer.fit(df[cat_cols])\n",
    "\n",
    "    average_imputer=SimpleImputer(strategy='mean')\n",
    "    average_imputer.fit(df[['Compartments']])\n",
    "\n",
    "\n",
    "    data_processed[['Weight_Capacity_(kg)']]=weight_imputer.transform(data_processed[['Weight_Capacity_(kg)']])\n",
    "    data_processed[cat_cols]=frequent_imputer.transform(data_processed[cat_cols])\n",
    "    data_processed[['Compartments']] = average_imputer.transform(data_processed[['Compartments']])\n",
    "\n",
    "    data_processed = pd.get_dummies(data_processed, columns=cat_cols, drop_first=True, dtype=int).copy()\n",
    "\n",
    "    weight_scaler = StandardScaler()\n",
    "    weight_scaler.fit(df[['Weight_Capacity_(kg)']])\n",
    "    data_processed[['Weight_Capacity_(kg)']] = weight_scaler.transform(data_processed[['Weight_Capacity_(kg)']])\n",
    "    \n",
    "    return data_processed"
   ]
  },
  {
   "cell_type": "code",
   "execution_count": 63,
   "metadata": {},
   "outputs": [
    {
     "name": "stdout",
     "output_type": "stream",
     "text": [
      "<class 'pandas.core.frame.DataFrame'>\n",
      "RangeIndex: 300000 entries, 0 to 299999\n",
      "Data columns (total 22 columns):\n",
      " #   Column                  Non-Null Count   Dtype  \n",
      "---  ------                  --------------   -----  \n",
      " 0   id                      300000 non-null  int64  \n",
      " 1   Compartments            300000 non-null  float64\n",
      " 2   Weight_Capacity_(kg)    300000 non-null  float64\n",
      " 3   Price                   300000 non-null  float64\n",
      " 4   Brand_Jansport          300000 non-null  int64  \n",
      " 5   Brand_Nike              300000 non-null  int64  \n",
      " 6   Brand_Puma              300000 non-null  int64  \n",
      " 7   Brand_Under Armour      300000 non-null  int64  \n",
      " 8   Material_Leather        300000 non-null  int64  \n",
      " 9   Material_Nylon          300000 non-null  int64  \n",
      " 10  Material_Polyester      300000 non-null  int64  \n",
      " 11  Size_Medium             300000 non-null  int64  \n",
      " 12  Size_Small              300000 non-null  int64  \n",
      " 13  Laptop_Compartment_Yes  300000 non-null  int64  \n",
      " 14  Waterproof_Yes          300000 non-null  int64  \n",
      " 15  Style_Messenger         300000 non-null  int64  \n",
      " 16  Style_Tote              300000 non-null  int64  \n",
      " 17  Color_Blue              300000 non-null  int64  \n",
      " 18  Color_Gray              300000 non-null  int64  \n",
      " 19  Color_Green             300000 non-null  int64  \n",
      " 20  Color_Pink              300000 non-null  int64  \n",
      " 21  Color_Red               300000 non-null  int64  \n",
      "dtypes: float64(3), int64(19)\n",
      "memory usage: 50.4 MB\n"
     ]
    }
   ],
   "source": [
    "processed_train = preprocess(df)\n",
    "processed_train.info()\n"
   ]
  }
 ],
 "metadata": {
  "kernelspec": {
   "display_name": "base",
   "language": "python",
   "name": "python3"
  },
  "language_info": {
   "codemirror_mode": {
    "name": "ipython",
    "version": 3
   },
   "file_extension": ".py",
   "mimetype": "text/x-python",
   "name": "python",
   "nbconvert_exporter": "python",
   "pygments_lexer": "ipython3",
   "version": "3.12.4"
  }
 },
 "nbformat": 4,
 "nbformat_minor": 2
}
