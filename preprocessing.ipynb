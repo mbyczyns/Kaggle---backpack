{
 "cells": [
  {
   "cell_type": "markdown",
   "metadata": {},
   "source": [
    "## Imports"
   ]
  },
  {
   "cell_type": "code",
   "execution_count": 17,
   "metadata": {},
   "outputs": [],
   "source": [
    "import pandas as pd\n",
    "from sklearn.impute import SimpleImputer\n",
    "from sklearn.pipeline import Pipeline\n",
    "from sklearn.preprocessing import StandardScaler, OneHotEncoder, OrdinalEncoder\n",
    "\n",
    "df = pd.read_csv('train.csv')\n",
    "df_test = pd.read_csv('test.csv')\n",
    "df.columns = df.columns.str.replace(' ', '_')\n",
    "df_test.columns = df_test.columns.str.replace(' ', '_')\n"
   ]
  },
  {
   "cell_type": "markdown",
   "metadata": {},
   "source": [
    "## Pipelines"
   ]
  },
  {
   "cell_type": "code",
   "execution_count": 67,
   "metadata": {},
   "outputs": [],
   "source": [
    "impute_onehot = Pipeline([\n",
    "    ('imputer', SimpleImputer(strategy='constant', fill_value='Unknown')),\n",
    "    ('onehot', OneHotEncoder(handle_unknown='ignore'))\n",
    "])\n",
    "impute_onehot.set_output(transform=\"pandas\")\n",
    "impute_onehot_cols = ['Style','Color','Brand','Material']\n",
    "\n",
    "size_pipeline = Pipeline([\n",
    "    ('imputer', SimpleImputer(strategy='constant', fill_value='Medium')),\n",
    "    ('ordinal', OrdinalEncoder(categories=['Small','Medium','Large']))\n",
    "])\n",
    "size_pipeline.set_output(transform=\"pandas\")\n",
    "size_pipeline_cols = ['Size']\n",
    "\n",
    "yes_no_pipeline = Pipeline([\n",
    "    ('imputer', SimpleImputer(strategy='constant', fill_value='Unknown')),\n",
    "    ('ordinal', OrdinalEncoder(categories=['No','Unknown','Yes']))\n",
    "])\n",
    "yes_no_pipeline.set_output(transform=\"pandas\")\n",
    "yes_no_pipeline_cols = ['Waterproof', 'Laptop_Compartment']\n",
    "\n",
    "weight_pipeline = Pipeline([\n",
    "    ('imputer', SimpleImputer(strategy='constant', fill_value=18.0))\n",
    "])\n",
    "weight_pipeline.set_output(transform=\"pandas\")\n",
    "weight_pipeline_cols=['Weight_Capacity_(kg)']\n",
    "\n",
    "compartments_pipeline = Pipeline([\n",
    "    ('scaler', StandardScaler())\n",
    "])\n",
    "compartments_pipeline.set_output(transform='pandas')\n",
    "compartments_pipeline_cols=['Compartments']"
   ]
  }
 ],
 "metadata": {
  "kernelspec": {
   "display_name": "base",
   "language": "python",
   "name": "python3"
  },
  "language_info": {
   "codemirror_mode": {
    "name": "ipython",
    "version": 3
   },
   "file_extension": ".py",
   "mimetype": "text/x-python",
   "name": "python",
   "nbconvert_exporter": "python",
   "pygments_lexer": "ipython3",
   "version": "3.12.4"
  }
 },
 "nbformat": 4,
 "nbformat_minor": 2
}
